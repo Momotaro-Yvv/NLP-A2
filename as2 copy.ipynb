{
 "cells": [
  {
   "cell_type": "markdown",
   "metadata": {},
   "source": [
    "# Assignment 2: Language Modelling in Hangman"
   ]
  },
  {
   "attachments": {},
   "cell_type": "markdown",
   "metadata": {
    "collapsed": true
   },
   "source": [
    "Student Name: Yvonne Tao\n",
    "\n",
    "Student ID: 1183577"
   ]
  },
  {
   "cell_type": "markdown",
   "metadata": {},
   "source": [
    "## General info"
   ]
  },
  {
   "cell_type": "markdown",
   "metadata": {},
   "source": [
    "<b>Due date</b>: Thursday, 6 April 2023 1pm\n",
    "\n",
    "<b>Submission method</b>: Canvas submission\n",
    "\n",
    "<b>Submission materials</b>: completed copy of this iPython notebook\n",
    "\n",
    "<b>Late submissions</b>: -10% per day (both week and weekend days counted)\n",
    "\n",
    "<b>Marks</b>: 8% of mark for class (with 7% on correctness + 1% on quality and efficiency of your code)\n",
    "\n",
    "<b>Materials</b>: See \"Using Jupyter Notebook and Python page\" on Canvas (under Modules>Resources) for information on the basic setup required for this class, including an iPython notebook viewer and the python packages NLTK, Numpy, Scipy, Matplotlib, Scikit-Learn, Gensim, Keras and Pytorch. We recommend installing all the data for NLTK, since you will need various parts of it to complete this assignment. You can also use any Python built-in packages, but do not use any other 3rd party packages (the packages listed above are all fine to use); if your iPython notebook doesn't run on the marker's machine, you will lose marks. <b> You should use Python 3.8</b>; libraries/packages should be in their latest version that is compatible with python3.8.  \n",
    "\n",
    "To familiarize yourself with NLTK, here is a free online book:  Steven Bird, Ewan Klein, and Edward Loper (2009). <a href=https://www.nltk.org/book/>Natural Language Processing with Python</a>. O'Reilly Media Inc. You may also consult the <a href=https://www.nltk.org/api/nltk.html>NLTK API</a>.\n",
    "\n",
    "<b>Evaluation</b>: Your iPython notebook should run end-to-end without any errors in a reasonable amount of time, and you must follow all instructions provided below, including specific implementation requirements and instructions for what needs to be printed (please avoid printing output we don't ask for). You should edit the sections below where requested, but leave the rest of the code as is. You should leave the output from running your code in the iPython notebook you submit, to assist with marking. The amount each question is worth is explicitly given. \n",
    "\n",
    "You will be marked not only on the correctness of your methods, but also the quality and efficency of your code: in particular, you should be careful to use Python built-in functions and operators when appropriate and pick descriptive variable names that adhere to <a href=\"https://www.python.org/dev/peps/pep-0008/\">Python style requirements</a>. If you think it might be unclear what you are doing, you should comment your code to help the marker make sense of it.\n",
    "\n",
    "<b>Updates</b>: Any major changes to the assignment will be announced via Canvas. Minor changes and clarifications will be announced on the discussion board; we recommend you check it regularly.\n",
    "\n",
    "<b>Academic misconduct</b>: For most people, collaboration will form a natural part of the undertaking of this homework, and we encourge you to discuss it in general terms with other students. However, this ultimately is still an individual task, and so reuse of code or other instances of clear influence will be considered cheating. We will be checking submissions for originality and will invoke the University’s <a href=\"http://academichonesty.unimelb.edu.au/policy.html\">Academic Misconduct policy</a> where inappropriate levels of collusion or plagiarism are deemed to have taken place. In regards to the use of artificial intelligence tools in the context of academic integrity, please see the university's statement <a href=\"https://academicintegrity.unimelb.edu.au/plagiarism-and-collusion/artificial-intelligence-tools-and-technologies\">here</a>."
   ]
  },
  {
   "cell_type": "markdown",
   "metadata": {},
   "source": [
    "# Overview\n",
    "\n",
    "In this homework, you'll be creating an 'artificial intelligence' player for the classic Hangman word guessing game. You will need to implement several different automatic strategies based on character-level n-gram language models. Your objective is to create an automatic player which makes the fewest mistakes."
   ]
  },
  {
   "cell_type": "markdown",
   "metadata": {},
   "source": [
    "# The Hangman Game (7 marks)"
   ]
  },
  {
   "cell_type": "markdown",
   "metadata": {},
   "source": [
    "**Instructions**: The <a href=\"https://en.wikipedia.org/wiki/Hangman_(game)\">Hangman game</a> is a simple game whereby one person thinks of a word, which they keep secret from their opponent, who tries to guess the word one character at a time. The game ends when the opponent makes more than a fixed number of incorrect guesses, or they figure out the secret word before then (in which case they *win*). \n",
    "\n",
    "Here's a simple version of the game. **No implementation is needed.**"
   ]
  },
  {
   "cell_type": "code",
   "execution_count": 1,
   "metadata": {},
   "outputs": [],
   "source": [
    "def hangman(secret_word, guesser, max_mistakes=8, verbose=True, **guesser_args):\n",
    "    \"\"\"\n",
    "        This function plays the hangman game with the provided guesser and returns the number of incorrect guesses. \n",
    "        \n",
    "        secret_word: a string of lower-case alphabetic characters, i.e., the answer to the game\n",
    "        guesser: a function which guesses the next character at each stage in the game\n",
    "            The function takes a:\n",
    "                mask: what is known of the word, as a string with _ denoting an unknown character\n",
    "                guessed: the set of characters which already been guessed in the game\n",
    "                guesser_args: additional (optional) keyword arguments, i.e., name=value\n",
    "        max_mistakes: limit on length of game, in terms of number of allowed mistakes\n",
    "        verbose: silent or verbose diagnostic prints\n",
    "        guesser_args: keyword arguments to pass directly to the guesser function\n",
    "    \"\"\"\n",
    "    secret_word = secret_word.lower()\n",
    "    mask = ['_'] * len(secret_word)\n",
    "    guessed = set()\n",
    "    if verbose:\n",
    "        print(\"Starting hangman game. Target is\", ' '.join(mask), 'length', len(secret_word))\n",
    "    \n",
    "    mistakes = 0\n",
    "    while mistakes < max_mistakes:\n",
    "        if verbose:\n",
    "            print(\"You have\", (max_mistakes-mistakes), \"attempts remaining.\")\n",
    "        guess = guesser(mask, guessed, **guesser_args)\n",
    "\n",
    "        if verbose:\n",
    "            print('Guess is', guess)\n",
    "        if guess in guessed:\n",
    "            if verbose:\n",
    "                print('Already guessed this before.')\n",
    "            mistakes += 1\n",
    "        else:\n",
    "            guessed.add(guess)\n",
    "            if guess in secret_word and len(guess) == 1:\n",
    "                for i, c in enumerate(secret_word):\n",
    "                    if c == guess:\n",
    "                        mask[i] = c\n",
    "                if verbose:\n",
    "                    print('Good guess:', ' '.join(mask))\n",
    "            else:\n",
    "                if len(guess) != 1:\n",
    "                    print('Please guess with only 1 character.')\n",
    "                if verbose:\n",
    "                    print('Sorry, try again.')\n",
    "                mistakes += 1\n",
    "                \n",
    "        if '_' not in mask:\n",
    "            if verbose:\n",
    "                print('Congratulations, you won.')\n",
    "            return mistakes\n",
    "        \n",
    "    if verbose:\n",
    "        print('Out of guesses. The word was', secret_word)    \n",
    "    return mistakes"
   ]
  },
  {
   "cell_type": "markdown",
   "metadata": {},
   "source": [
    "Here is a human guesser allowing interactive play."
   ]
  },
  {
   "cell_type": "code",
   "execution_count": 2,
   "metadata": {},
   "outputs": [],
   "source": [
    "def human(mask, guessed, **kwargs):\n",
    "    \"\"\"\n",
    "    This is a simple function for manual play.\n",
    "    \"\"\"\n",
    "    print('\\nEnter your guess:')\n",
    "    return input().lower().strip()"
   ]
  },
  {
   "cell_type": "markdown",
   "metadata": {},
   "source": [
    "If you want to play hangman interactively, please set `interactive` to `True`. When submitting your solution, set to `False` so we can automatically run the whole notebook using `Run All`."
   ]
  },
  {
   "cell_type": "code",
   "execution_count": 3,
   "metadata": {},
   "outputs": [],
   "source": [
    "interactive = False"
   ]
  },
  {
   "cell_type": "markdown",
   "metadata": {},
   "source": [
    "<b>For your testing:</b>\n",
    "\n",
    "You can play the game interactively using the following command:"
   ]
  },
  {
   "cell_type": "code",
   "execution_count": 4,
   "metadata": {},
   "outputs": [],
   "source": [
    "if interactive:\n",
    "    hangman('whatever', human, 8, True)"
   ]
  },
  {
   "cell_type": "markdown",
   "metadata": {
    "collapsed": true
   },
   "source": [
    "### Question 1 (1.0 mark)\n",
    "\n",
    "**Instructions**: We will use the words in NLTK's Brown corpus for training an artificial intelligence guessing algorithm, and for evaluating the quality of the algorithm.\n",
    "\n",
    "Your first task is to compute the number of **unique word types** occurring in the Brown corpus, using `nltk.corpus.brown` and the `words` method, and select only words that are **entirely comprised of alphabetic characters**. You should also **lowercase the words**. Finally, randomly shuffle (`numpy.random.shuffle`) this collection of word types, and split them into disjoint training and testing sets. The test set should contain 1000 word types, and the rest should be in the  training set. Note that we are intentionally making the hangman game hard, as the AI will need to cope with test words that it has not seen before, hence it will need to learn generalisable patterns of characters to make reasonable predictions.\n",
    "\n",
    "**Task**: Collect all unique word types from the Brown corpus, and produce `training_set` and `test_set`, 2 lists that contain 2 disjointed sets of words. Both `training_set` and `test_set` should be a python `list` (as initialised in the code). `test_set` must contain exactly 1000 word types.\n",
    "\n",
    "**Check**: Use the assertion statements in <b>\"For your testing\"</b> below for the expected output."
   ]
  },
  {
   "cell_type": "code",
   "execution_count": 5,
   "metadata": {},
   "outputs": [
    {
     "name": "stderr",
     "output_type": "stream",
     "text": [
      "[nltk_data] Downloading package brown to /Users/momotaro/nltk_data...\n",
      "[nltk_data]   Package brown is already up-to-date!\n"
     ]
    },
    {
     "name": "stdout",
     "output_type": "stream",
     "text": [
      "40234\n",
      "Number of word types in test = 1000\n",
      "Number of word types in train = 39234\n"
     ]
    }
   ],
   "source": [
    "import nltk\n",
    "from nltk.corpus import brown\n",
    "import numpy as np\n",
    "\n",
    "nltk.download('brown')\n",
    "np.random.seed(42)\n",
    "\n",
    "# training_set stores the rest word types for training\n",
    "training_set = []\n",
    "# test_set stores 1000 word types for testing\n",
    "test_set = []\n",
    "\n",
    "\n",
    "###\n",
    "# Your answer BEGINS HERE\n",
    "###\n",
    "from nltk.corpus import brown\n",
    "from sklearn.model_selection import train_test_split\n",
    "\n",
    "#words from brown corpus\n",
    "brown_words = brown.words()\n",
    "\n",
    "#Select words that are entirely comprised of alphabetic characters\n",
    "alphabetic_words = []\n",
    "for word in brown_words:\n",
    "    if word.isalpha():\n",
    "        alphabetic_words.append(word.lower())\n",
    "unique_alphabetic_words =list(set(alphabetic_words))\n",
    "\n",
    "#randomly shuffle\n",
    "np.random.shuffle(unique_alphabetic_words)\n",
    "print(len(unique_alphabetic_words))\n",
    "\n",
    "#split them into disjoint training and testing sets\n",
    "testing_size = 1000\n",
    "test_set = unique_alphabetic_words[:testing_size]\n",
    "training_set = unique_alphabetic_words[testing_size:]\n",
    "\n",
    "###\n",
    "# Your answer ENDS HERE\n",
    "###\n",
    "\n",
    "print(\"Number of word types in test =\", len(test_set))\n",
    "print(\"Number of word types in train =\", len(training_set))"
   ]
  },
  {
   "cell_type": "markdown",
   "metadata": {},
   "source": [
    "<b>For your testing:</b>"
   ]
  },
  {
   "cell_type": "code",
   "execution_count": 6,
   "metadata": {},
   "outputs": [],
   "source": [
    "assert(len(training_set) > 35000 and len(training_set) < 45000)\n",
    "assert(len(test_set) == 1000)"
   ]
  },
  {
   "cell_type": "markdown",
   "metadata": {},
   "source": [
    "**Play the game**:\n",
    "\n",
    "Let's see how good you are at this game! Try to guess a random word from the test set. It is surprisingly difficult (and addictive)! Don't forget to set `interactive = True`."
   ]
  },
  {
   "cell_type": "code",
   "execution_count": 7,
   "metadata": {},
   "outputs": [],
   "source": [
    "#play hangman using random words from test set\n",
    "if interactive:\n",
    "    hangman(np.random.choice(test_set), human, 8, True)"
   ]
  },
  {
   "cell_type": "markdown",
   "metadata": {},
   "source": [
    "### Question 2 (1.0 mark)\n",
    "\n",
    "**Instructions**: To set a baseline, your first AI attempt will be a trivial **random method**. For this you should implement a guessing method, similar to the `human` method above, i.e., using the same input arguments and returning a character. Your method should randomly choose a character from the range `a ... z` after excluding the characters that have already been guessed in the current game (all subsequent AI approaches should also exclude previous guesses).\n",
    "\n",
    "To help you measure the performance of this (and later) guesser, a `test_guesser` method that takes a guesser and measures the average number of incorrect guesses made over all the words in the `test` is provided to you. \n",
    "\n",
    "**Task**: Complete the `random_guesser` method. It should return a random character from the English alphabets.\n",
    "\n",
    "**Check**: Use the assertion statements in <b>\"For your testing\"</b> below for the expected output."
   ]
  },
  {
   "cell_type": "code",
   "execution_count": 8,
   "metadata": {},
   "outputs": [],
   "source": [
    "def test_guesser(guesser, test):\n",
    "    \"\"\"\n",
    "        This function takes a guesser and measures the average number of incorrect guesses made over all the words in the test_set. \n",
    "    \"\"\"\n",
    "    \n",
    "    total = 0\n",
    "    for word in test:\n",
    "        total += hangman(word, guesser, 26, False)\n",
    "    return total / float(len(test))"
   ]
  },
  {
   "cell_type": "code",
   "execution_count": 9,
   "metadata": {},
   "outputs": [
    {
     "name": "stdout",
     "output_type": "stream",
     "text": [
      "Guessing word = anye\n",
      "Number of mistakes made by the random guesser = 9\n",
      "\n",
      "Testing the random guesser using every word in test set\n",
      "Average number of incorrect guesses:  16.647\n"
     ]
    }
   ],
   "source": [
    "import string\n",
    "from string import ascii_lowercase\n",
    "import random\n",
    "def random_guesser(mask, guessed, **kwargs):\n",
    "\n",
    "    ###\n",
    "    # Your answer BEGINS HERE\n",
    "    ###\n",
    "    letters = list(ascii_lowercase)\n",
    "    candidates = [letter for letter in letters if letter not in list(guessed)]\n",
    "    candidate = random.choice(candidates)\n",
    "    return candidate\n",
    "    ###\n",
    "    # Your answer ENDS HERE\n",
    "    ###\n",
    "\n",
    "random_word = np.random.choice(test_set)\n",
    "print(\"Guessing word =\", random_word)\n",
    "print(\"Number of mistakes made by the random guesser =\", hangman(random_word, random_guesser, 26, False))\n",
    "\n",
    "result = test_guesser(random_guesser, test_set)\n",
    "print(\"\\nTesting the random guesser using every word in test set\")\n",
    "print(\"Average number of incorrect guesses: \", result)"
   ]
  },
  {
   "cell_type": "markdown",
   "metadata": {},
   "source": [
    "<b>For your testing:</b>"
   ]
  },
  {
   "cell_type": "code",
   "execution_count": 10,
   "metadata": {},
   "outputs": [],
   "source": [
    "assert(result > 10 and result < 20)"
   ]
  },
  {
   "cell_type": "markdown",
   "metadata": {},
   "source": [
    "### Question 3 (1.0 mark)\n",
    "\n",
    "**Instructions:** As your first real AI, you should train a **unigram language model** over the training set. This requires you to find the frequencies of characters over all training words. Using this model, you should write a guesser that returns the character with the highest probability. Remember to exclude already guessed characters. \n",
    "\n",
    "**Task**: Collect the frequencies of characters and store them in `unigram_counts` (use the first answer space). Complete the `unigram_guesser` method. Note that it takes `unigram_counts` as an additional argument (use the second answer space).\n",
    "\n",
    "**Check**: Use the assertion statements in <b>\"For your testing\"</b> below for the expected output."
   ]
  },
  {
   "cell_type": "code",
   "execution_count": 11,
   "metadata": {},
   "outputs": [
    {
     "name": "stdout",
     "output_type": "stream",
     "text": [
      "Testing the unigram guesser using every word in test set\n",
      "Average number of incorrect guesses:  10.296\n"
     ]
    }
   ],
   "source": [
    "unigram_counts = None\n",
    "\n",
    "###\n",
    "# Your answer BEGINS HERE\n",
    "###\n",
    "import collections\n",
    "\n",
    "unigram_counts = collections.defaultdict(int)\n",
    "for word in training_set:\n",
    "    for letter in word:\n",
    "        unigram_counts[letter] = unigram_counts.get(letter,0) + 1\n",
    "     \n",
    "###\n",
    "# Your answer ENDS HERE\n",
    "###\n",
    "\n",
    "def unigram_guesser(mask, guessed, unigram_counts=unigram_counts):\n",
    "\n",
    "    ###\n",
    "    # Your answer BEGINS HERE\n",
    "    ###\n",
    "    sorted_unigram_letters = sorted(unigram_counts, key=unigram_counts.get, reverse=True)\n",
    "    unguessed_sorted_unigram_letters = [letter for letter in sorted_unigram_letters if letter not in guessed]\n",
    "    return unguessed_sorted_unigram_letters[0]\n",
    "    ###\n",
    "    # Your answer ENDS HERE\n",
    "    ###\n",
    "\n",
    "result = test_guesser(unigram_guesser, test_set)\n",
    "print(\"Testing the unigram guesser using every word in test set\")\n",
    "print(\"Average number of incorrect guesses: \", result)"
   ]
  },
  {
   "cell_type": "markdown",
   "metadata": {},
   "source": [
    "<b>For your testing:</b>"
   ]
  },
  {
   "cell_type": "code",
   "execution_count": 12,
   "metadata": {},
   "outputs": [],
   "source": [
    "assert(result > 5 and result < 15)"
   ]
  },
  {
   "cell_type": "markdown",
   "metadata": {},
   "source": [
    "### Question 4 (1.0 mark)\n",
    "\n",
    "**Instructions:** The length of the secret word is an important clue that we might exploit. Different lengths tend to have different distributions over characters, e.g., short words are less likely to have suffixes or prefixes. You should incorporate this idea by conditioning the unigram model on the length of the secret word, i.e.,  having a **different unigram model for each length**. You will need to be a little careful at test time, to be robust to the situation that you encounter a word length that you didn't see in training. In such a case, your method should behave like the previous `unigram_guesser` in Question 3 (i.e., it guesses characters based on unigram frequencies, unconditioned by the word length).\n",
    "\n",
    "**Task**: Collect the frequencies of characters conditioned on the word length and store them in `unigram_counts_by_length` (use the first answer space). Complete the `unigram_length_guesser` method (use the second answer space).\n",
    "\n",
    "**Check**: Use the assertion statements in <b>\"For your testing\"</b> below for the expected output."
   ]
  },
  {
   "cell_type": "code",
   "execution_count": 13,
   "metadata": {
    "scrolled": false
   },
   "outputs": [
    {
     "name": "stdout",
     "output_type": "stream",
     "text": [
      "Testing the length-conditioned unigram guesser using every word in test set\n",
      "Average number of incorrect guesses:  10.319\n"
     ]
    }
   ],
   "source": [
    "unigram_counts_by_length = None\n",
    "\n",
    "###\n",
    "# Your answer BEGINS HERE\n",
    "###\n",
    "import collections\n",
    "\n",
    "unigram_counts_by_length = collections.defaultdict(dict)\n",
    "for word in training_set:\n",
    "    word_leng = len(word) \n",
    "    for letter in ascii_lowercase:\n",
    "        if letter in word:\n",
    "            unigram_counts_by_length[word_leng][letter] = unigram_counts_by_length[word_leng].get(letter,0) + word.count(letter)\n",
    "        else:\n",
    "            unigram_counts_by_length[word_leng][letter] = unigram_counts_by_length[word_leng].get(letter,0) \n",
    "###\n",
    "###\n",
    "# Your answer ENDS HERE\n",
    "###\n",
    "\n",
    "def unigram_length_guesser(mask, guessed, unigram_counts_by_length=unigram_counts_by_length, unigram_counts=unigram_counts):\n",
    "    ###\n",
    "    # Your answer BEGINS HERE\n",
    "    ###\n",
    "    word_length = len(mask)\n",
    "\n",
    "    #get the unigram counts for this word\n",
    "    if word_length in unigram_counts_by_length.keys():\n",
    "        unigram_model = unigram_counts_by_length[word_length]\n",
    "    else:\n",
    "        unigram_model = unigram_counts\n",
    "    \n",
    "    sorted_unigram_letters = sorted(unigram_model, key=unigram_model.get, reverse=True)\n",
    "    unguessed_sorted_unigram_letters = [letter for letter in sorted_unigram_letters if letter not in guessed]\n",
    "    return unguessed_sorted_unigram_letters[0]\n",
    "    \n",
    "    ###\n",
    "    # Your answer ENDS HERE\n",
    "    ###\n",
    "\n",
    "result = test_guesser(unigram_length_guesser, test_set)\n",
    "print(\"Testing the length-conditioned unigram guesser using every word in test set\")\n",
    "print(\"Average number of incorrect guesses: \", result)"
   ]
  },
  {
   "cell_type": "markdown",
   "metadata": {},
   "source": [
    "<b>For your testing:</b>"
   ]
  },
  {
   "cell_type": "code",
   "execution_count": 14,
   "metadata": {},
   "outputs": [],
   "source": [
    "assert(result > 5 and result < 15)"
   ]
  },
  {
   "cell_type": "markdown",
   "metadata": {},
   "source": [
    "### Question 5 (1.0 mark)\n",
    "\n",
    "**Instructions:** Now for the next challenge, you'll build a **bigram language model** over characters. The order of characters is obviously important, yet this wasn't incorporated in any of the above models. Knowing that the word has the sequence `n _ s s` is a pretty strong clue that the missing character might be `e`. Similarly the distribution over characters that start or end a word are highly biased (e.g., toward common prefixes and suffixes, like *un-*, *-ed* and *-ly*).\n",
    "\n",
    "The task here is to develop a bigram language model over characters, and train it over the training words. Remember to be careful when handling the start of each word properly, e.g., by padding with a special starting symbol such as `$`. Do we also need a special ending symbol? That's for you to decide.\n",
    "\n",
    "Your bigram guesser should apply your language model to each blank position in the secret word by using its left context character. For example, in the partial word `e _ c _ b _ _` we know the left context for the first three blanks, but have no known left context for the last blank. In the case for the last blank, you should revert to using a unigram language model (since there's no context for us to use the bigram model). You should sum up the probability distribution (over all alphabets from <i>a</i> to <i>z</i>) for the 4 blanks, and select the alphabet with the highest probability that hasn't been guessed.\n",
    "\n",
    "**Note**:\n",
    "- When backing-off to the unigram language model, you **must use the vanilla unigram language model that you have built in Q3**. Do not use the length-based unigram language model, or any fancy variant, or you will lose marks.\n",
    "- You should build a **standard bigram language model**; i.e. do not do anything complicated like a bidirectional bigram language model.\n",
    "\n",
    "**Task**: Collect frequency counts that are necessary for building a bigram language model and store them in bigram_counts; feel free to add new objects if needed (use the first answer space). Complete the `bigram_guesser` method (use the second answer space). Note that the method currently only has one additional argument (`bigram_counts`), but you are free to add additional arguments."
   ]
  },
  {
   "cell_type": "code",
   "execution_count": 15,
   "metadata": {},
   "outputs": [
    {
     "name": "stdout",
     "output_type": "stream",
     "text": [
      "Testing the bigram guesser using every word in test set\n",
      "Average number of incorrect guesses:  8.717\n"
     ]
    }
   ],
   "source": [
    "bigram_counts = None\n",
    "\n",
    "###\n",
    "# Your answer BEGINS HERE\n",
    "###\n",
    "\n",
    "# build a bigram language model over characters, add padding \"$\" at the beginning of each word\n",
    "bigram_counts = collections.defaultdict(int)\n",
    "for word in training_set:\n",
    "    word_with_padding = '$' + word\n",
    "    for idx in range(1,len(word_with_padding)):\n",
    "        bigram = word_with_padding[idx-1] + word_with_padding[idx]\n",
    "        bigram_counts[bigram] = bigram_counts.get(bigram,0) + 1\n",
    "\n",
    "###\n",
    "# Your answer ENDS HERE\n",
    "###\n",
    "\n",
    "def bigram_guesser(mask, guessed, bigram_counts=bigram_counts, unigram_counts = unigram_counts): # add extra arguments if needed\n",
    "    ###\n",
    "    # Your answer BEGINS HERE\n",
    "    ###\n",
    "    mask_with_padding = ['$'] + mask # e.g. $remaining\n",
    "    possibility_distribution = [0 for _ in range(26)]\n",
    "    \n",
    "    for letter_idx, letter in enumerate(ascii_lowercase):\n",
    "        if letter in guessed:\n",
    "            continue\n",
    "\n",
    "        accumulated_probability = 0\n",
    "        for mask_idx in range(1,len(mask_with_padding)):\n",
    "            \n",
    "            if mask_with_padding[mask_idx] != \"_\":\n",
    "                continue\n",
    "\n",
    "            left_context = mask_with_padding[mask_idx-1]\n",
    "            \n",
    "            if left_context != \"_\":\n",
    "                #use bigram\n",
    "                matching_bigram = {bigram: count for bigram, count in bigram_counts.items() if bigram.startswith(left_context)}\n",
    "                if matching_bigram:\n",
    "                    accumulated_probability += (bigram_counts[left_context+letter] / sum(matching_bigram.values()))    \n",
    "            else:\n",
    "                # Backoff to unigram\n",
    "                accumulated_probability += unigram_counts[letter]/sum(unigram_counts.values())\n",
    "        possibility_distribution[letter_idx] = accumulated_probability\n",
    "\n",
    "    best_index = possibility_distribution.index(max(possibility_distribution))\n",
    "    return ascii_lowercase[best_index]\n",
    "    \n",
    "    ###\n",
    "    # Your answer ENDS HERE\n",
    "    ###\n",
    "\n",
    "result = test_guesser(bigram_guesser, test_set)\n",
    "print(\"Testing the bigram guesser using every word in test set\")\n",
    "print(\"Average number of incorrect guesses: \", result)"
   ]
  },
  {
   "cell_type": "markdown",
   "metadata": {},
   "source": [
    "### Question 6 (1.5 mark)\n",
    "\n",
    "**Instructions:** You should try to develop a more effective AI for hangman. Feel free to engage your creativity here! Possibilities include better conditioning on the length of the word, fancier smoothing methods, ngram models and bidirectional models (lecture 8). Have fun!\n",
    "\n",
    "You will be marked based on the performance of your AI model, using a pre-made training and test set (created using a secret seed). Let x be the average number of mistakes in the test set, you will score:\n",
    "* 1.5 mark if x < 7.6\n",
    "* 1.0 mark if 7.6 <= x < 8.0\n",
    "* 0.5 mark if 8.0 <= x < 8.5\n",
    "* 0.0 mark if x >= 8.5\n",
    "\n",
    "Note:\n",
    "* When testing your AI model's performance, you may want to consider trying different training/test splits (using different seeds) to have a better understanding of its performance, as there will be some variance to its performance depending on the training/test split.\n",
    "* Your code must run under 3 minutes on Codalab; program that runs longer than that will be terminated and you will score 0.\n",
    "\n",
    "**Task** Complete the `my_amazing_ai_guesser` method, which implements a better language model for hangman."
   ]
  },
  {
   "cell_type": "code",
   "execution_count": null,
   "metadata": {},
   "outputs": [],
   "source": [
    "\n",
    "# Build the trigram model\n",
    "trigram_model = defaultdict(list)\n",
    "for word in words:\n",
    "    trigrams = list(ngrams(word, 3, pad_left=True, pad_right=True))\n",
    "    for tg in trigrams:\n",
    "        trigram_model[tg[:2]].append(tg[2])\n"
   ]
  },
  {
   "attachments": {},
   "cell_type": "markdown",
   "metadata": {},
   "source": [
    "### Bidirectional Model"
   ]
  },
  {
   "cell_type": "code",
   "execution_count": null,
   "metadata": {},
   "outputs": [
    {
     "ename": "NameError",
     "evalue": "name 'collections' is not defined",
     "output_type": "error",
     "traceback": [
      "\u001b[0;31m---------------------------------------------------------------------------\u001b[0m",
      "\u001b[0;31mNameError\u001b[0m                                 Traceback (most recent call last)",
      "\u001b[1;32m/Users/momotaro/Desktop/2023_S1/NLP/A2_NLP/as2 copy.ipynb Cell 38\u001b[0m in \u001b[0;36m<cell line: 2>\u001b[0;34m()\u001b[0m\n\u001b[1;32m      <a href='vscode-notebook-cell:/Users/momotaro/Desktop/2023_S1/NLP/A2_NLP/as2%20copy.ipynb#X53sZmlsZQ%3D%3D?line=0'>1</a>\u001b[0m \u001b[39m# build a trigram language model over characters, add padding \"$\" at the beginning and the end of each word\u001b[39;00m\n\u001b[0;32m----> <a href='vscode-notebook-cell:/Users/momotaro/Desktop/2023_S1/NLP/A2_NLP/as2%20copy.ipynb#X53sZmlsZQ%3D%3D?line=1'>2</a>\u001b[0m trigram_counts \u001b[39m=\u001b[39m collections\u001b[39m.\u001b[39mdefaultdict(\u001b[39mint\u001b[39m)\n\u001b[1;32m      <a href='vscode-notebook-cell:/Users/momotaro/Desktop/2023_S1/NLP/A2_NLP/as2%20copy.ipynb#X53sZmlsZQ%3D%3D?line=2'>3</a>\u001b[0m \u001b[39mfor\u001b[39;00m word \u001b[39min\u001b[39;00m training_set:\n\u001b[1;32m      <a href='vscode-notebook-cell:/Users/momotaro/Desktop/2023_S1/NLP/A2_NLP/as2%20copy.ipynb#X53sZmlsZQ%3D%3D?line=3'>4</a>\u001b[0m     word_with_padding \u001b[39m=\u001b[39m \u001b[39m'\u001b[39m\u001b[39m$\u001b[39m\u001b[39m'\u001b[39m \u001b[39m+\u001b[39m word \u001b[39m+\u001b[39m \u001b[39m'\u001b[39m\u001b[39m$\u001b[39m\u001b[39m'\u001b[39m\n",
      "\u001b[0;31mNameError\u001b[0m: name 'collections' is not defined"
     ]
    }
   ],
   "source": [
    "# build a trigram language model over characters, add padding \"$\" at the beginning and the end of each word\n",
    "trigram_counts = collections.defaultdict(int)\n",
    "for word in training_set:\n",
    "    word_with_padding = '$' + word + '$'\n",
    "    for idx in range(1,len(word_with_padding)-1):\n",
    "        trigram = word_with_padding[idx-1] + word_with_padding[idx] + word_with_padding[idx+1]\n",
    "        trigram_counts[trigram] = trigram_counts.get(trigram,0) + 1\n",
    "print(\"Number of trigrams: \", len(trigram_counts), '\\n',\\\n",
    "       \"Total counts: \", sum(trigram_counts.values()))\n",
    "\n",
    "# build a bigram language model over characters, add padding \"$\" at the beginning and the end of each word\n",
    "bigram_counts = collections.defaultdict(int)\n",
    "for word in training_set:\n",
    "    word_with_padding = '$' + word + '$'\n",
    "    for idx in range(1,len(word_with_padding)):\n",
    "        bigram = word_with_padding[idx-1] + word_with_padding[idx]\n",
    "        bigram_counts[bigram] = bigram_counts.get(bigram,0) + 1\n",
    "print(\"Number of bigrams: \", len(bigram_counts), '\\n',\\\n",
    "         \"Total counts: \", sum(bigram_counts.values()))"
   ]
  },
  {
   "cell_type": "code",
   "execution_count": null,
   "metadata": {},
   "outputs": [
    {
     "ename": "NameError",
     "evalue": "name 'test_guesser' is not defined",
     "output_type": "error",
     "traceback": [
      "\u001b[0;31m---------------------------------------------------------------------------\u001b[0m",
      "\u001b[0;31mNameError\u001b[0m                                 Traceback (most recent call last)",
      "\u001b[1;32m/Users/momotaro/Desktop/2023_S1/NLP/A2_NLP/as2 copy.ipynb Cell 39\u001b[0m in \u001b[0;36m<cell line: 38>\u001b[0;34m()\u001b[0m\n\u001b[1;32m     <a href='vscode-notebook-cell:/Users/momotaro/Desktop/2023_S1/NLP/A2_NLP/as2%20copy.ipynb#X54sZmlsZQ%3D%3D?line=34'>35</a>\u001b[0m     best_index \u001b[39m=\u001b[39m possibility_distribution\u001b[39m.\u001b[39mindex(\u001b[39mmax\u001b[39m(possibility_distribution))\n\u001b[1;32m     <a href='vscode-notebook-cell:/Users/momotaro/Desktop/2023_S1/NLP/A2_NLP/as2%20copy.ipynb#X54sZmlsZQ%3D%3D?line=35'>36</a>\u001b[0m     \u001b[39mreturn\u001b[39;00m ascii_lowercase[best_index]\n\u001b[0;32m---> <a href='vscode-notebook-cell:/Users/momotaro/Desktop/2023_S1/NLP/A2_NLP/as2%20copy.ipynb#X54sZmlsZQ%3D%3D?line=37'>38</a>\u001b[0m result \u001b[39m=\u001b[39m test_guesser(my_amazing_ai_guesser, test_set)\n\u001b[1;32m     <a href='vscode-notebook-cell:/Users/momotaro/Desktop/2023_S1/NLP/A2_NLP/as2%20copy.ipynb#X54sZmlsZQ%3D%3D?line=38'>39</a>\u001b[0m \u001b[39mprint\u001b[39m(\u001b[39m\"\u001b[39m\u001b[39mTesting my amazing AI guesser using every word in test set\u001b[39m\u001b[39m\"\u001b[39m)\n\u001b[1;32m     <a href='vscode-notebook-cell:/Users/momotaro/Desktop/2023_S1/NLP/A2_NLP/as2%20copy.ipynb#X54sZmlsZQ%3D%3D?line=39'>40</a>\u001b[0m \u001b[39mprint\u001b[39m(\u001b[39m\"\u001b[39m\u001b[39mAverage number of incorrect guesses: \u001b[39m\u001b[39m\"\u001b[39m, result)\n",
      "\u001b[0;31mNameError\u001b[0m: name 'test_guesser' is not defined"
     ]
    }
   ],
   "source": [
    "def my_amazing_ai_guesser(mask, guessed):\n",
    "    mask_with_padding = ['$'] + mask + ['$'] # e.g. $remaining$\n",
    "    possibility_distribution = [0 for _ in range(26)]\n",
    "\n",
    "    for letter_idx, letter in enumerate(ascii_lowercase):\n",
    "        if letter in guessed:\n",
    "            continue\n",
    "\n",
    "        accumulated_probability = 0\n",
    "        for mask_idx in range(1,len(mask_with_padding)-1):\n",
    "            \n",
    "            if mask_with_padding[mask_idx] != \"_\":\n",
    "                continue\n",
    "\n",
    "            left_context = mask_with_padding[mask_idx-1]\n",
    "            right_context = mask_with_padding[mask_idx+1]\n",
    "            print(left_context, letter, right_context)\n",
    "            \n",
    "            if left_context != \"_\" and right_context != \"_\":\n",
    "                #use trigram\n",
    "                matching_trigram = {trigram: count for trigram, count in trigram_counts.items() if trigram.startswith(left_context) and trigram.endswith(right_context)}\n",
    "                print(matching_trigram)\n",
    "                if matching_trigram:\n",
    "                    accumulated_probability += (trigram_counts[left_context+letter+right_context] / sum(matching_trigram.values()))    \n",
    "            else:\n",
    "                # Backoff to bigram\n",
    "                matching_bigram = {bigram: count for bigram, count in bigram_counts.items() if bigram.startswith(letter) or bigram.endswith(letter)}\n",
    "                print(matching_bigram)\n",
    "                if matching_bigram:\n",
    "                    accumulated_probability += (bigram_counts[letter+right_context]+ bigram_counts[left_context+letter]) / sum(matching_bigram.values())\n",
    "                else:\n",
    "                    # Backoff to unigram\n",
    "                    accumulated_probability += unigram_counts[letter]/sum(unigram_counts.values())\n",
    "        possibility_distribution[letter_idx] = accumulated_probability\n",
    "    best_index = possibility_distribution.index(max(possibility_distribution))\n",
    "    return ascii_lowercase[best_index]\n",
    "    \n",
    "result = test_guesser(my_amazing_ai_guesser, test_set)\n",
    "print(\"Testing my amazing AI guesser using every word in test set\")\n",
    "print(\"Average number of incorrect guesses: \", result)"
   ]
  },
  {
   "cell_type": "markdown",
   "metadata": {},
   "source": [
    "### Question 7 (0.5 mark)\n",
    "\n",
    "**Instructions:** Explain your approach and discuss your result below. Please keep your explanation to a short paragraph."
   ]
  },
  {
   "attachments": {},
   "cell_type": "markdown",
   "metadata": {},
   "source": [
    "##### Your answer BEGINS HERE\n",
    "\n",
    "1. Add Trigram based on unigram and bigram,and Use Add-one Smoothing -  mistake drop from 8.68 to 8.248 \n",
    "2. Add-k smoothing\n",
    "\n",
    "##### Your answer ENDS HERE"
   ]
  },
  {
   "cell_type": "code",
   "execution_count": null,
   "metadata": {},
   "outputs": [],
   "source": []
  }
 ],
 "metadata": {
  "anaconda-cloud": {},
  "kernelspec": {
   "display_name": "Python 3 (ipykernel)",
   "language": "python",
   "name": "python3"
  },
  "language_info": {
   "codemirror_mode": {
    "name": "ipython",
    "version": 3
   },
   "file_extension": ".py",
   "mimetype": "text/x-python",
   "name": "python",
   "nbconvert_exporter": "python",
   "pygments_lexer": "ipython3",
   "version": "3.8.13"
  }
 },
 "nbformat": 4,
 "nbformat_minor": 1
}
